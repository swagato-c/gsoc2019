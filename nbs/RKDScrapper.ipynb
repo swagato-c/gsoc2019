{
  "nbformat": 4,
  "nbformat_minor": 0,
  "metadata": {
    "colab": {
      "name": "RKDScrapper.ipynb",
      "version": "0.3.2",
      "provenance": [],
      "collapsed_sections": []
    },
    "kernelspec": {
      "name": "python3",
      "display_name": "Python 3"
    }
  },
  "cells": [
    {
      "cell_type": "code",
      "metadata": {
        "id": "l4jDWFbkmtO8",
        "colab_type": "code",
        "colab": {}
      },
      "source": [
        "!pip install unsync==1.2\n",
        "!pip install aiohttp==3.5.4\n",
        "!pip install aiofiles==0.4.0"
      ],
      "execution_count": 0,
      "outputs": []
    },
    {
      "cell_type": "code",
      "metadata": {
        "id": "R8hoMhhWahCc",
        "colab_type": "code",
        "colab": {}
      },
      "source": [
        "from urllib.request import urlopen\n",
        "import json"
      ],
      "execution_count": 0,
      "outputs": []
    },
    {
      "cell_type": "code",
      "metadata": {
        "id": "LLW7jM3Pvd_7",
        "colab_type": "code",
        "colab": {}
      },
      "source": [
        "import aiohttp\n",
        "import aiofiles\n",
        "from unsync import unsync\n",
        "import asyncio"
      ],
      "execution_count": 0,
      "outputs": []
    },
    {
      "cell_type": "code",
      "metadata": {
        "id": "EBdPzExspe2I",
        "colab_type": "code",
        "colab": {}
      },
      "source": [
        "import os\n",
        "import sys"
      ],
      "execution_count": 0,
      "outputs": []
    },
    {
      "cell_type": "code",
      "metadata": {
        "id": "5V9y3bePacxd",
        "colab_type": "code",
        "colab": {}
      },
      "source": [
        "nums = json.loads(urlopen((f'https://api.rkd.nl/api/search/images?filters[iconclass_code]=73*&format=json&language=en&filters[periode]=1400||1735&fieldset=detail&start=0'))\n",
        "                  .read().decode('utf-8'))['response']['numFound']"
      ],
      "execution_count": 0,
      "outputs": []
    },
    {
      "cell_type": "code",
      "metadata": {
        "id": "kAW5rV9npgSG",
        "colab_type": "code",
        "colab": {}
      },
      "source": [
        "os.mkdir('images')"
      ],
      "execution_count": 0,
      "outputs": []
    },
    {
      "cell_type": "code",
      "metadata": {
        "id": "iiMu24OqnXJG",
        "colab_type": "code",
        "colab": {}
      },
      "source": [
        "@unsync\n",
        "async def download_images(task):\n",
        "    im, id = task.result()\n",
        "    async with aiohttp.ClientSession() as session:\n",
        "        url = f'https://images.rkd.nl/rkd/thumb/650x650/{im}.jpg'\n",
        "        async with session.get(url) as resp:\n",
        "            if resp.status == 200:\n",
        "                f = await aiofiles.open(f'images/{id}.jpg', mode='wb')\n",
        "                await f.write(await resp.read())\n",
        "                await f.close()"
      ],
      "execution_count": 0,
      "outputs": []
    },
    {
      "cell_type": "code",
      "metadata": {
        "id": "o-2zwDsgwcXc",
        "colab_type": "code",
        "colab": {}
      },
      "source": [
        "@unsync\n",
        "async def get_info(offset):\n",
        "    url = f'https://api.rkd.nl/api/search/images?filters[iconclass_code]=73*&format=json&language=en&filters[periode]=1400||1735&fieldset=detail&start={offset}'\n",
        "    async with aiohttp.ClientSession() as session:\n",
        "        async with session.get(url) as resp:\n",
        "            if resp.status == 200:\n",
        "               q = await resp.json()\n",
        "               return q['response']['docs'][0]"
      ],
      "execution_count": 0,
      "outputs": []
    },
    {
      "cell_type": "code",
      "metadata": {
        "id": "Dj50qi5Q3mt8",
        "colab_type": "code",
        "colab": {}
      },
      "source": [
        "data=[]"
      ],
      "execution_count": 0,
      "outputs": []
    },
    {
      "cell_type": "code",
      "metadata": {
        "id": "4iUZw56G403Z",
        "colab_type": "code",
        "colab": {}
      },
      "source": [
        "@unsync\n",
        "def extract(task):\n",
        "    resp = task.result()\n",
        "    imgl = resp['picturae_images'][-1]\n",
        "    permalink = resp['permalink']\n",
        "    q = [st.split('@') for st in resp['iconclass_tekst_search']]\n",
        "    id = permalink.rsplit('/', 1)[-1]\n",
        "    for sq in q:\n",
        "        t,c = sq\n",
        "        if c.startswith('73'):\n",
        "            data.append((c, t, imgl, permalink, id)) # keeping it at 1NF\n",
        "    return imgl,id      "
      ],
      "execution_count": 0,
      "outputs": []
    },
    {
      "cell_type": "code",
      "metadata": {
        "id": "RTlmoEYwXkmL",
        "colab_type": "code",
        "colab": {}
      },
      "source": [
        "from fastprogress import progress_bar\n",
        "pgb = progress_bar(range(nums))"
      ],
      "execution_count": 0,
      "outputs": []
    },
    {
      "cell_type": "code",
      "metadata": {
        "id": "CRhyQqC9Tg-E",
        "colab_type": "code",
        "colab": {}
      },
      "source": [
        "tasks = [get_info(i).then(extract).then(download_images).result() for i in pgb]"
      ],
      "execution_count": 0,
      "outputs": []
    },
    {
      "cell_type": "code",
      "metadata": {
        "id": "O5LjMiHBXBpi",
        "colab_type": "code",
        "colab": {}
      },
      "source": [
        "!zip -r images.zip images"
      ],
      "execution_count": 0,
      "outputs": []
    },
    {
      "cell_type": "code",
      "metadata": {
        "id": "o6RWw5_pSgjK",
        "colab_type": "code",
        "colab": {}
      },
      "source": [
        "# Run this cell to mount your Google Drive.\n",
        "from google.colab import drive\n",
        "drive.mount('/content/drive')"
      ],
      "execution_count": 0,
      "outputs": []
    },
    {
      "cell_type": "code",
      "metadata": {
        "id": "Ocav2lfVS8YL",
        "colab_type": "code",
        "colab": {}
      },
      "source": [
        "!mkdir /content/drive/My\\ Drive/gsoc_images"
      ],
      "execution_count": 0,
      "outputs": []
    },
    {
      "cell_type": "code",
      "metadata": {
        "id": "uOiIi9n3Tc6M",
        "colab_type": "code",
        "colab": {}
      },
      "source": [
        "%cd gsoc_images"
      ],
      "execution_count": 0,
      "outputs": []
    },
    {
      "cell_type": "code",
      "metadata": {
        "id": "Vw6LXUkrT34Q",
        "colab_type": "code",
        "colab": {}
      },
      "source": [
        "!cp /content/images.zip ."
      ],
      "execution_count": 0,
      "outputs": []
    },
    {
      "cell_type": "code",
      "metadata": {
        "id": "7v537xTkYise",
        "colab_type": "code",
        "colab": {}
      },
      "source": [
        "import pandas as pd"
      ],
      "execution_count": 0,
      "outputs": []
    },
    {
      "cell_type": "code",
      "metadata": {
        "id": "fD85jMSZZGy3",
        "colab_type": "code",
        "colab": {}
      },
      "source": [
        "df = pd.DataFrame(data, columns=[\"Iconclass\",\"Text\",\"Download-Hash\",\"Permalink\",\"Id\"])"
      ],
      "execution_count": 0,
      "outputs": []
    },
    {
      "cell_type": "code",
      "metadata": {
        "id": "TPMARcwIZbYl",
        "colab_type": "code",
        "colab": {}
      },
      "source": [
        "df.head()"
      ],
      "execution_count": 0,
      "outputs": []
    },
    {
      "cell_type": "code",
      "metadata": {
        "id": "_oRuGamdZueI",
        "colab_type": "code",
        "colab": {}
      },
      "source": [
        "df.to_csv(\"rkd_keys.csv\")"
      ],
      "execution_count": 0,
      "outputs": []
    },
    {
      "cell_type": "code",
      "metadata": {
        "id": "2DKRRHK6aEw8",
        "colab_type": "code",
        "colab": {}
      },
      "source": [
        ""
      ],
      "execution_count": 0,
      "outputs": []
    }
  ]
}