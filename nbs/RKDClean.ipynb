{
  "nbformat": 4,
  "nbformat_minor": 0,
  "metadata": {
    "colab": {
      "name": "RKDClean.ipynb",
      "version": "0.3.2",
      "provenance": [],
      "collapsed_sections": []
    },
    "kernelspec": {
      "name": "python3",
      "display_name": "Python 3"
    }
  },
  "cells": [
    {
      "cell_type": "code",
      "metadata": {
        "id": "pabBzDNzBmSu",
        "colab_type": "code",
        "outputId": "80f0a0ad-e4a2-4806-a6b1-f75219995ae1",
        "colab": {
          "base_uri": "https://localhost:8080/",
          "height": 224
        }
      },
      "source": [
        "!pip install imagehash"
      ],
      "execution_count": 0,
      "outputs": [
        {
          "output_type": "stream",
          "text": [
            "Collecting imagehash\n",
            "\u001b[?25l  Downloading https://files.pythonhosted.org/packages/58/47/e639093d67f54e59163f9d259575a10bd16e4d0ff3bb1259ba64b9c77a42/ImageHash-4.0-py2.py3-none-any.whl (295kB)\n",
            "\r\u001b[K     |█                               | 10kB 12.7MB/s eta 0:00:01\r\u001b[K     |██▏                             | 20kB 3.2MB/s eta 0:00:01\r\u001b[K     |███▎                            | 30kB 4.6MB/s eta 0:00:01\r\u001b[K     |████▍                           | 40kB 3.0MB/s eta 0:00:01\r\u001b[K     |█████▌                          | 51kB 3.6MB/s eta 0:00:01\r\u001b[K     |██████▋                         | 61kB 4.3MB/s eta 0:00:01\r\u001b[K     |███████▊                        | 71kB 4.9MB/s eta 0:00:01\r\u001b[K     |████████▉                       | 81kB 5.5MB/s eta 0:00:01\r\u001b[K     |██████████                      | 92kB 6.2MB/s eta 0:00:01\r\u001b[K     |███████████                     | 102kB 4.9MB/s eta 0:00:01\r\u001b[K     |████████████▏                   | 112kB 4.9MB/s eta 0:00:01\r\u001b[K     |█████████████▎                  | 122kB 4.9MB/s eta 0:00:01\r\u001b[K     |██████████████▍                 | 133kB 4.9MB/s eta 0:00:01\r\u001b[K     |███████████████▌                | 143kB 4.9MB/s eta 0:00:01\r\u001b[K     |████████████████▋               | 153kB 4.9MB/s eta 0:00:01\r\u001b[K     |█████████████████▊              | 163kB 4.9MB/s eta 0:00:01\r\u001b[K     |██████████████████▉             | 174kB 4.9MB/s eta 0:00:01\r\u001b[K     |████████████████████            | 184kB 4.9MB/s eta 0:00:01\r\u001b[K     |█████████████████████           | 194kB 4.9MB/s eta 0:00:01\r\u001b[K     |██████████████████████▏         | 204kB 4.9MB/s eta 0:00:01\r\u001b[K     |███████████████████████▎        | 215kB 4.9MB/s eta 0:00:01\r\u001b[K     |████████████████████████▍       | 225kB 4.9MB/s eta 0:00:01\r\u001b[K     |█████████████████████████▌      | 235kB 4.9MB/s eta 0:00:01\r\u001b[K     |██████████████████████████▋     | 245kB 4.9MB/s eta 0:00:01\r\u001b[K     |███████████████████████████▊    | 256kB 4.9MB/s eta 0:00:01\r\u001b[K     |████████████████████████████▉   | 266kB 4.9MB/s eta 0:00:01\r\u001b[K     |██████████████████████████████  | 276kB 4.9MB/s eta 0:00:01\r\u001b[K     |███████████████████████████████ | 286kB 4.9MB/s eta 0:00:01\r\u001b[K     |████████████████████████████████| 296kB 4.9MB/s \n",
            "\u001b[?25hRequirement already satisfied: numpy in /usr/local/lib/python3.6/dist-packages (from imagehash) (1.16.4)\n",
            "Requirement already satisfied: pillow in /usr/local/lib/python3.6/dist-packages (from imagehash) (4.3.0)\n",
            "Requirement already satisfied: scipy in /usr/local/lib/python3.6/dist-packages (from imagehash) (1.3.0)\n",
            "Requirement already satisfied: pywavelets in /usr/local/lib/python3.6/dist-packages (from imagehash) (1.0.3)\n",
            "Requirement already satisfied: six in /usr/local/lib/python3.6/dist-packages (from imagehash) (1.12.0)\n",
            "Requirement already satisfied: olefile in /usr/local/lib/python3.6/dist-packages (from pillow->imagehash) (0.46)\n",
            "Installing collected packages: imagehash\n",
            "Successfully installed imagehash-4.0\n"
          ],
          "name": "stdout"
        }
      ]
    },
    {
      "cell_type": "code",
      "metadata": {
        "id": "CwuE9aPUCDXZ",
        "colab_type": "code",
        "colab": {}
      },
      "source": [
        "from imagehash import *\n",
        "from PIL import Image\n",
        "import pandas as pd\n",
        "import numpy as np"
      ],
      "execution_count": 0,
      "outputs": []
    },
    {
      "cell_type": "code",
      "metadata": {
        "id": "HH5NHY-jCob5",
        "colab_type": "code",
        "outputId": "ed762878-04cb-4de3-b081-4d8806e0d9bc",
        "colab": {
          "base_uri": "https://localhost:8080/",
          "height": 122
        }
      },
      "source": [
        "from google.colab import drive\n",
        "drive.mount('/content/drive')"
      ],
      "execution_count": 0,
      "outputs": [
        {
          "output_type": "stream",
          "text": [
            "Go to this URL in a browser: https://accounts.google.com/o/oauth2/auth?client_id=947318989803-6bn6qk8qdgf4n4g3pfee6491hc0brc4i.apps.googleusercontent.com&redirect_uri=urn%3Aietf%3Awg%3Aoauth%3A2.0%3Aoob&scope=email%20https%3A%2F%2Fwww.googleapis.com%2Fauth%2Fdocs.test%20https%3A%2F%2Fwww.googleapis.com%2Fauth%2Fdrive%20https%3A%2F%2Fwww.googleapis.com%2Fauth%2Fdrive.photos.readonly%20https%3A%2F%2Fwww.googleapis.com%2Fauth%2Fpeopleapi.readonly&response_type=code\n",
            "\n",
            "Enter your authorization code:\n",
            "··········\n",
            "Mounted at /content/drive\n"
          ],
          "name": "stdout"
        }
      ]
    },
    {
      "cell_type": "code",
      "metadata": {
        "id": "QCKu9EMPC6hh",
        "colab_type": "code",
        "colab": {}
      },
      "source": [
        "!cp \"/content/drive/My Drive/gsoc_images/images.zip\" ."
      ],
      "execution_count": 0,
      "outputs": []
    },
    {
      "cell_type": "code",
      "metadata": {
        "id": "PG50UM3lHH_n",
        "colab_type": "code",
        "colab": {}
      },
      "source": [
        "!cp \"/content/drive/My Drive/gsoc_images/rkd_keys.csv\" ."
      ],
      "execution_count": 0,
      "outputs": []
    },
    {
      "cell_type": "code",
      "metadata": {
        "id": "XOXyRWhTDj1F",
        "colab_type": "code",
        "colab": {}
      },
      "source": [
        "!unzip -qq images.zip"
      ],
      "execution_count": 0,
      "outputs": []
    },
    {
      "cell_type": "code",
      "metadata": {
        "id": "lsTB_2gADwBV",
        "colab_type": "code",
        "colab": {}
      },
      "source": [
        "A = str(phash(Image.open('overzicht.jpg')))"
      ],
      "execution_count": 0,
      "outputs": []
    },
    {
      "cell_type": "code",
      "metadata": {
        "id": "AzXr20sYENCO",
        "colab_type": "code",
        "colab": {}
      },
      "source": [
        "B = str(phash(Image.open('rkdnotav.jpg')))"
      ],
      "execution_count": 0,
      "outputs": []
    },
    {
      "cell_type": "code",
      "metadata": {
        "id": "BnqDZ909F_lz",
        "colab_type": "code",
        "colab": {}
      },
      "source": [
        "C = str(phash(Image.open('rkdimgnotav.jpg')))"
      ],
      "execution_count": 0,
      "outputs": []
    },
    {
      "cell_type": "code",
      "metadata": {
        "id": "-58fiF2VZEmI",
        "colab_type": "code",
        "colab": {}
      },
      "source": [
        "D = str(phash(Image.open('rkdbadblur.png')))"
      ],
      "execution_count": 0,
      "outputs": []
    },
    {
      "cell_type": "code",
      "metadata": {
        "id": "57KJ6tkCWHmP",
        "colab_type": "code",
        "colab": {}
      },
      "source": [
        "def trim_df(df):\n",
        "    df['IC1'] = df['Iconclass'].str[:3]\n",
        "    df = df.groupby('Id').agg({'Iconclass':','.join,'IC1':set}).reset_index()\n",
        "    df['IC1'] = df['IC1'].str.join(',')\n",
        "    df[\"IMG\"] = df[\"Id\"].astype(str).__add__(\".jpg\")\n",
        "    return df"
      ],
      "execution_count": 0,
      "outputs": []
    },
    {
      "cell_type": "code",
      "metadata": {
        "id": "pUppT8FkGRwX",
        "colab_type": "code",
        "colab": {}
      },
      "source": [
        "#df = trim_df(pd.read_csv(\"rkd_keys.csv\")[['Iconclass','Id']])\n",
        "df = pd.read_csv(\"rkd_keys.csv\")"
      ],
      "execution_count": 0,
      "outputs": []
    },
    {
      "cell_type": "code",
      "metadata": {
        "id": "iZMFGpPFNmCh",
        "colab_type": "code",
        "colab": {}
      },
      "source": [
        "b=[]\n",
        "for i,id in enumerate(df['Id']):\n",
        "    k = str(phash(Image.open(f'images/{id}.jpg')))\n",
        "    if k in [A,B,C,D]:\n",
        "        b.append(id)"
      ],
      "execution_count": 0,
      "outputs": []
    },
    {
      "cell_type": "code",
      "metadata": {
        "id": "RdaoJqyV1EF7",
        "colab_type": "code",
        "colab": {}
      },
      "source": [
        "len(np.unique(b))"
      ],
      "execution_count": 0,
      "outputs": []
    },
    {
      "cell_type": "code",
      "metadata": {
        "id": "_0M6p-aOUGwM",
        "colab_type": "code",
        "colab": {}
      },
      "source": [
        "tdf = df[~df[\"Id\"].isin(b)]"
      ],
      "execution_count": 0,
      "outputs": []
    },
    {
      "cell_type": "code",
      "metadata": {
        "id": "FlztR5Do0c8u",
        "colab_type": "code",
        "colab": {}
      },
      "source": [
        "kdf = trim_df(pd.read_csv(\"rkd_keys.csv\")[['Iconclass','Id']])"
      ],
      "execution_count": 0,
      "outputs": []
    },
    {
      "cell_type": "code",
      "metadata": {
        "id": "r9IlvZgN02yE",
        "colab_type": "code",
        "colab": {}
      },
      "source": [
        "ktdf = kdf[~kdf[\"Id\"].isin(b)]"
      ],
      "execution_count": 0,
      "outputs": []
    },
    {
      "cell_type": "code",
      "metadata": {
        "id": "QVQIo7Yq7yxM",
        "colab_type": "code",
        "colab": {}
      },
      "source": [
        "tdf[['Iconclass','Text','Download-Hash','Permalink','Id']].to_csv('rkd_keys_clean.csv')"
      ],
      "execution_count": 0,
      "outputs": []
    },
    {
      "cell_type": "code",
      "metadata": {
        "id": "E3Z1yvYuIXAv",
        "colab_type": "code",
        "outputId": "0faff70b-b6b4-4bea-e1bf-9d4fafa4b8ef",
        "colab": {
          "base_uri": "https://localhost:8080/",
          "height": 34
        }
      },
      "source": [
        "len(ktdf)"
      ],
      "execution_count": 0,
      "outputs": [
        {
          "output_type": "execute_result",
          "data": {
            "text/plain": [
              "10447"
            ]
          },
          "metadata": {
            "tags": []
          },
          "execution_count": 150
        }
      ]
    },
    {
      "cell_type": "code",
      "metadata": {
        "id": "6UdvCqbT8UUQ",
        "colab_type": "code",
        "colab": {}
      },
      "source": [
        "l = len(ktdf)\n",
        "tov = [False] * l\n",
        "tov[:int(.7 * l)] = [True] * int(.7 * l)"
      ],
      "execution_count": 0,
      "outputs": []
    },
    {
      "cell_type": "code",
      "metadata": {
        "id": "aaChswa-DhQw",
        "colab_type": "code",
        "outputId": "f8968a2c-659a-498d-bcab-67add8395bba",
        "colab": {
          "base_uri": "https://localhost:8080/",
          "height": 139
        }
      },
      "source": [
        "ktdf['Type'] = ['Train' if x else 'Valid' for x in tov]"
      ],
      "execution_count": 0,
      "outputs": [
        {
          "output_type": "stream",
          "text": [
            "/usr/local/lib/python3.6/dist-packages/ipykernel_launcher.py:1: SettingWithCopyWarning: \n",
            "A value is trying to be set on a copy of a slice from a DataFrame.\n",
            "Try using .loc[row_indexer,col_indexer] = value instead\n",
            "\n",
            "See the caveats in the documentation: http://pandas.pydata.org/pandas-docs/stable/indexing.html#indexing-view-versus-copy\n",
            "  \"\"\"Entry point for launching an IPython kernel.\n"
          ],
          "name": "stderr"
        }
      ]
    },
    {
      "cell_type": "code",
      "metadata": {
        "id": "_qfdjHl7_ATW",
        "colab_type": "code",
        "outputId": "342e97c7-1288-49c4-c6cf-2676e3d4a077",
        "colab": {
          "base_uri": "https://localhost:8080/",
          "height": 34
        }
      },
      "source": [
        ".7 * l"
      ],
      "execution_count": 0,
      "outputs": [
        {
          "output_type": "execute_result",
          "data": {
            "text/plain": [
              "7312.9"
            ]
          },
          "metadata": {
            "tags": []
          },
          "execution_count": 129
        }
      ]
    },
    {
      "cell_type": "code",
      "metadata": {
        "id": "MMy6x5dN_CWW",
        "colab_type": "code",
        "outputId": "ce06a65c-d15d-4cdd-80c7-0512f6ed01b3",
        "colab": {
          "base_uri": "https://localhost:8080/",
          "height": 68
        }
      },
      "source": [
        "ktdf['Type'].value_counts()"
      ],
      "execution_count": 0,
      "outputs": [
        {
          "output_type": "execute_result",
          "data": {
            "text/plain": [
              "Train    7312\n",
              "Valid    3135\n",
              "Name: Type, dtype: int64"
            ]
          },
          "metadata": {
            "tags": []
          },
          "execution_count": 153
        }
      ]
    },
    {
      "cell_type": "code",
      "metadata": {
        "id": "FvlarcTLH2If",
        "colab_type": "code",
        "colab": {}
      },
      "source": [
        "ktdf[[\"Id\",\"Iconclass\",\"Type\"]].to_csv(\"rkd_cnn_train.csv\")"
      ],
      "execution_count": 0,
      "outputs": []
    },
    {
      "cell_type": "code",
      "metadata": {
        "id": "R6bN9p89LZS-",
        "colab_type": "code",
        "colab": {}
      },
      "source": [
        ""
      ],
      "execution_count": 0,
      "outputs": []
    }
  ]
}